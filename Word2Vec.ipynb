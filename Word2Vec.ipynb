{
  "nbformat": 4,
  "nbformat_minor": 0,
  "metadata": {
    "colab": {
      "name": "Word2Vec.ipynb",
      "provenance": []
    },
    "kernelspec": {
      "name": "python3",
      "display_name": "Python 3"
    },
    "language_info": {
      "name": "python"
    }
  },
  "cells": [
    {
      "cell_type": "code",
      "metadata": {
        "colab": {
          "base_uri": "https://localhost:8080/"
        },
        "id": "lfj7VPPT43rm",
        "outputId": "f7f462c8-87dc-4ed7-973f-710c3b33df0e"
      },
      "source": [
        "import nltk\n",
        "import re \n",
        "from nltk.corpus import stopwords\n",
        "from gensim.models import Word2Vec\n",
        "nltk.download('punkt')\n",
        "nltk.download('stopwords')"
      ],
      "execution_count": 22,
      "outputs": [
        {
          "output_type": "stream",
          "name": "stdout",
          "text": [
            "[nltk_data] Downloading package punkt to /root/nltk_data...\n",
            "[nltk_data]   Package punkt is already up-to-date!\n",
            "[nltk_data] Downloading package stopwords to /root/nltk_data...\n",
            "[nltk_data]   Package stopwords is already up-to-date!\n"
          ]
        },
        {
          "output_type": "execute_result",
          "data": {
            "text/plain": [
              "True"
            ]
          },
          "metadata": {},
          "execution_count": 22
        }
      ]
    },
    {
      "cell_type": "code",
      "metadata": {
        "id": "_JH_-24WIdFl"
      },
      "source": [
        "textual_data = \"\"\"I have three visions for India. In 3000 years of our history, people from all over \n",
        "               the world have come and invaded us, captured our lands, conquered our minds. \n",
        "               From Alexander onwards, the Greeks, the Turks, the Moguls, the Portuguese, the British,\n",
        "               the French, the Dutch, all of them came and looted us, took over what was ours. \n",
        "               Yet we have not done this to any other nation. We have not conquered anyone. \n",
        "               We have not grabbed their land, their culture, \n",
        "               their history and tried to enforce our way of life on them. \n",
        "               Why? Because we respect the freedom of others.That is why my \n",
        "               first vision is that of freedom. I believe that India got its first vision of \n",
        "               this in 1857, when we started the War of Independence. It is this freedom that\n",
        "               we must protect and nurture and build on. If we are not free, no one will respect us.\n",
        "               My second vision for India’s development. For fifty years we have been a developing nation.\n",
        "               It is time we see ourselves as a developed nation. We are among the top 5 nations of the world\n",
        "               in terms of GDP. We have a 10 percent growth rate in most areas. Our poverty levels are falling.\n",
        "               Our achievements are being globally recognised today. Yet we lack the self-confidence to\n",
        "               see ourselves as a developed nation, self-reliant and self-assured. Isn’t this incorrect?\n",
        "               I have a third vision. India must stand up to the world. Because I believe that unless India \n",
        "               stands up to the world, no one will respect us. Only strength respects strength. We must be \n",
        "               strong not only as a military power but also as an economic power. Both must go hand-in-hand. \n",
        "               My good fortune was to have worked with three great minds. Dr. Vikram Sarabhai of the Dept. of \n",
        "               space, Professor Satish Dhawan, who succeeded him and Dr. Brahm Prakash, father of nuclear material.\n",
        "               I was lucky to have worked with all three of them closely and consider this the great opportunity of my life. \n",
        "               I see four milestones in my career\"\"\""
      ],
      "execution_count": 23,
      "outputs": []
    },
    {
      "cell_type": "markdown",
      "metadata": {
        "id": "i6jZjSsNLG70"
      },
      "source": [
        "# Preprocessing the data"
      ]
    },
    {
      "cell_type": "code",
      "metadata": {
        "id": "z9udoTAdIgVh"
      },
      "source": [
        "text = re.sub(r'\\[[0-9]*\\]',' ',textual_data) # removing all numbers and special characters\n",
        "text = re.sub(r'\\s+',' ',text)  # removing white spaces\n",
        "text = text.lower()              # lowering the alphabet into lower case\n",
        "text = re.sub(r'\\d',' ',text)    \n",
        "text = re.sub(r'\\s+',' ',text)"
      ],
      "execution_count": 24,
      "outputs": []
    },
    {
      "cell_type": "code",
      "metadata": {
        "id": "idOpmV3nIgXk"
      },
      "source": [
        "# Preparing the dataset\n",
        "sentences = nltk.sent_tokenize(text) # converting sentences into tokens of sentence and getting the list of sentences i.e paragraph is converted into list of sentences"
      ],
      "execution_count": 25,
      "outputs": []
    },
    {
      "cell_type": "code",
      "metadata": {
        "colab": {
          "base_uri": "https://localhost:8080/"
        },
        "id": "P-iccqc8IgbF",
        "outputId": "c81cdff9-571f-4874-e09e-f7bcdb6f3bd5"
      },
      "source": [
        "sentences"
      ],
      "execution_count": 26,
      "outputs": [
        {
          "output_type": "execute_result",
          "data": {
            "text/plain": [
              "['i have three visions for india.',\n",
              " 'in years of our history, people from all over the world have come and invaded us, captured our lands, conquered our minds.',\n",
              " 'from alexander onwards, the greeks, the turks, the moguls, the portuguese, the british, the french, the dutch, all of them came and looted us, took over what was ours.',\n",
              " 'yet we have not done this to any other nation.',\n",
              " 'we have not conquered anyone.',\n",
              " 'we have not grabbed their land, their culture, their history and tried to enforce our way of life on them.',\n",
              " 'why?',\n",
              " 'because we respect the freedom of others.that is why my first vision is that of freedom.',\n",
              " 'i believe that india got its first vision of this in , when we started the war of independence.',\n",
              " 'it is this freedom that we must protect and nurture and build on.',\n",
              " 'if we are not free, no one will respect us.',\n",
              " 'my second vision for india’s development.',\n",
              " 'for fifty years we have been a developing nation.',\n",
              " 'it is time we see ourselves as a developed nation.',\n",
              " 'we are among the top nations of the world in terms of gdp.',\n",
              " 'we have a percent growth rate in most areas.',\n",
              " 'our poverty levels are falling.',\n",
              " 'our achievements are being globally recognised today.',\n",
              " 'yet we lack the self-confidence to see ourselves as a developed nation, self-reliant and self-assured.',\n",
              " 'isn’t this incorrect?',\n",
              " 'i have a third vision.',\n",
              " 'india must stand up to the world.',\n",
              " 'because i believe that unless india stands up to the world, no one will respect us.',\n",
              " 'only strength respects strength.',\n",
              " 'we must be strong not only as a military power but also as an economic power.',\n",
              " 'both must go hand-in-hand.',\n",
              " 'my good fortune was to have worked with three great minds.',\n",
              " 'dr. vikram sarabhai of the dept.',\n",
              " 'of space, professor satish dhawan, who succeeded him and dr. brahm prakash, father of nuclear material.',\n",
              " 'i was lucky to have worked with all three of them closely and consider this the great opportunity of my life.',\n",
              " 'i see four milestones in my career']"
            ]
          },
          "metadata": {},
          "execution_count": 26
        }
      ]
    },
    {
      "cell_type": "code",
      "metadata": {
        "id": "AlGjqeojIgc7"
      },
      "source": [
        "# Converting all sentences into words\n",
        "sentences = [nltk.word_tokenize(sentence) for sentence in sentences]"
      ],
      "execution_count": 27,
      "outputs": []
    },
    {
      "cell_type": "code",
      "metadata": {
        "colab": {
          "base_uri": "https://localhost:8080/"
        },
        "id": "vG_yNeFZIggM",
        "outputId": "4fc69079-44d0-42ad-b085-30e18e93cc62"
      },
      "source": [
        "sentences"
      ],
      "execution_count": 28,
      "outputs": [
        {
          "output_type": "execute_result",
          "data": {
            "text/plain": [
              "[['i', 'have', 'three', 'visions', 'for', 'india', '.'],\n",
              " ['in',\n",
              "  'years',\n",
              "  'of',\n",
              "  'our',\n",
              "  'history',\n",
              "  ',',\n",
              "  'people',\n",
              "  'from',\n",
              "  'all',\n",
              "  'over',\n",
              "  'the',\n",
              "  'world',\n",
              "  'have',\n",
              "  'come',\n",
              "  'and',\n",
              "  'invaded',\n",
              "  'us',\n",
              "  ',',\n",
              "  'captured',\n",
              "  'our',\n",
              "  'lands',\n",
              "  ',',\n",
              "  'conquered',\n",
              "  'our',\n",
              "  'minds',\n",
              "  '.'],\n",
              " ['from',\n",
              "  'alexander',\n",
              "  'onwards',\n",
              "  ',',\n",
              "  'the',\n",
              "  'greeks',\n",
              "  ',',\n",
              "  'the',\n",
              "  'turks',\n",
              "  ',',\n",
              "  'the',\n",
              "  'moguls',\n",
              "  ',',\n",
              "  'the',\n",
              "  'portuguese',\n",
              "  ',',\n",
              "  'the',\n",
              "  'british',\n",
              "  ',',\n",
              "  'the',\n",
              "  'french',\n",
              "  ',',\n",
              "  'the',\n",
              "  'dutch',\n",
              "  ',',\n",
              "  'all',\n",
              "  'of',\n",
              "  'them',\n",
              "  'came',\n",
              "  'and',\n",
              "  'looted',\n",
              "  'us',\n",
              "  ',',\n",
              "  'took',\n",
              "  'over',\n",
              "  'what',\n",
              "  'was',\n",
              "  'ours',\n",
              "  '.'],\n",
              " ['yet',\n",
              "  'we',\n",
              "  'have',\n",
              "  'not',\n",
              "  'done',\n",
              "  'this',\n",
              "  'to',\n",
              "  'any',\n",
              "  'other',\n",
              "  'nation',\n",
              "  '.'],\n",
              " ['we', 'have', 'not', 'conquered', 'anyone', '.'],\n",
              " ['we',\n",
              "  'have',\n",
              "  'not',\n",
              "  'grabbed',\n",
              "  'their',\n",
              "  'land',\n",
              "  ',',\n",
              "  'their',\n",
              "  'culture',\n",
              "  ',',\n",
              "  'their',\n",
              "  'history',\n",
              "  'and',\n",
              "  'tried',\n",
              "  'to',\n",
              "  'enforce',\n",
              "  'our',\n",
              "  'way',\n",
              "  'of',\n",
              "  'life',\n",
              "  'on',\n",
              "  'them',\n",
              "  '.'],\n",
              " ['why', '?'],\n",
              " ['because',\n",
              "  'we',\n",
              "  'respect',\n",
              "  'the',\n",
              "  'freedom',\n",
              "  'of',\n",
              "  'others.that',\n",
              "  'is',\n",
              "  'why',\n",
              "  'my',\n",
              "  'first',\n",
              "  'vision',\n",
              "  'is',\n",
              "  'that',\n",
              "  'of',\n",
              "  'freedom',\n",
              "  '.'],\n",
              " ['i',\n",
              "  'believe',\n",
              "  'that',\n",
              "  'india',\n",
              "  'got',\n",
              "  'its',\n",
              "  'first',\n",
              "  'vision',\n",
              "  'of',\n",
              "  'this',\n",
              "  'in',\n",
              "  ',',\n",
              "  'when',\n",
              "  'we',\n",
              "  'started',\n",
              "  'the',\n",
              "  'war',\n",
              "  'of',\n",
              "  'independence',\n",
              "  '.'],\n",
              " ['it',\n",
              "  'is',\n",
              "  'this',\n",
              "  'freedom',\n",
              "  'that',\n",
              "  'we',\n",
              "  'must',\n",
              "  'protect',\n",
              "  'and',\n",
              "  'nurture',\n",
              "  'and',\n",
              "  'build',\n",
              "  'on',\n",
              "  '.'],\n",
              " ['if',\n",
              "  'we',\n",
              "  'are',\n",
              "  'not',\n",
              "  'free',\n",
              "  ',',\n",
              "  'no',\n",
              "  'one',\n",
              "  'will',\n",
              "  'respect',\n",
              "  'us',\n",
              "  '.'],\n",
              " ['my', 'second', 'vision', 'for', 'india', '’', 's', 'development', '.'],\n",
              " ['for',\n",
              "  'fifty',\n",
              "  'years',\n",
              "  'we',\n",
              "  'have',\n",
              "  'been',\n",
              "  'a',\n",
              "  'developing',\n",
              "  'nation',\n",
              "  '.'],\n",
              " ['it',\n",
              "  'is',\n",
              "  'time',\n",
              "  'we',\n",
              "  'see',\n",
              "  'ourselves',\n",
              "  'as',\n",
              "  'a',\n",
              "  'developed',\n",
              "  'nation',\n",
              "  '.'],\n",
              " ['we',\n",
              "  'are',\n",
              "  'among',\n",
              "  'the',\n",
              "  'top',\n",
              "  'nations',\n",
              "  'of',\n",
              "  'the',\n",
              "  'world',\n",
              "  'in',\n",
              "  'terms',\n",
              "  'of',\n",
              "  'gdp',\n",
              "  '.'],\n",
              " ['we', 'have', 'a', 'percent', 'growth', 'rate', 'in', 'most', 'areas', '.'],\n",
              " ['our', 'poverty', 'levels', 'are', 'falling', '.'],\n",
              " ['our',\n",
              "  'achievements',\n",
              "  'are',\n",
              "  'being',\n",
              "  'globally',\n",
              "  'recognised',\n",
              "  'today',\n",
              "  '.'],\n",
              " ['yet',\n",
              "  'we',\n",
              "  'lack',\n",
              "  'the',\n",
              "  'self-confidence',\n",
              "  'to',\n",
              "  'see',\n",
              "  'ourselves',\n",
              "  'as',\n",
              "  'a',\n",
              "  'developed',\n",
              "  'nation',\n",
              "  ',',\n",
              "  'self-reliant',\n",
              "  'and',\n",
              "  'self-assured',\n",
              "  '.'],\n",
              " ['isn', '’', 't', 'this', 'incorrect', '?'],\n",
              " ['i', 'have', 'a', 'third', 'vision', '.'],\n",
              " ['india', 'must', 'stand', 'up', 'to', 'the', 'world', '.'],\n",
              " ['because',\n",
              "  'i',\n",
              "  'believe',\n",
              "  'that',\n",
              "  'unless',\n",
              "  'india',\n",
              "  'stands',\n",
              "  'up',\n",
              "  'to',\n",
              "  'the',\n",
              "  'world',\n",
              "  ',',\n",
              "  'no',\n",
              "  'one',\n",
              "  'will',\n",
              "  'respect',\n",
              "  'us',\n",
              "  '.'],\n",
              " ['only', 'strength', 'respects', 'strength', '.'],\n",
              " ['we',\n",
              "  'must',\n",
              "  'be',\n",
              "  'strong',\n",
              "  'not',\n",
              "  'only',\n",
              "  'as',\n",
              "  'a',\n",
              "  'military',\n",
              "  'power',\n",
              "  'but',\n",
              "  'also',\n",
              "  'as',\n",
              "  'an',\n",
              "  'economic',\n",
              "  'power',\n",
              "  '.'],\n",
              " ['both', 'must', 'go', 'hand-in-hand', '.'],\n",
              " ['my',\n",
              "  'good',\n",
              "  'fortune',\n",
              "  'was',\n",
              "  'to',\n",
              "  'have',\n",
              "  'worked',\n",
              "  'with',\n",
              "  'three',\n",
              "  'great',\n",
              "  'minds',\n",
              "  '.'],\n",
              " ['dr.', 'vikram', 'sarabhai', 'of', 'the', 'dept', '.'],\n",
              " ['of',\n",
              "  'space',\n",
              "  ',',\n",
              "  'professor',\n",
              "  'satish',\n",
              "  'dhawan',\n",
              "  ',',\n",
              "  'who',\n",
              "  'succeeded',\n",
              "  'him',\n",
              "  'and',\n",
              "  'dr.',\n",
              "  'brahm',\n",
              "  'prakash',\n",
              "  ',',\n",
              "  'father',\n",
              "  'of',\n",
              "  'nuclear',\n",
              "  'material',\n",
              "  '.'],\n",
              " ['i',\n",
              "  'was',\n",
              "  'lucky',\n",
              "  'to',\n",
              "  'have',\n",
              "  'worked',\n",
              "  'with',\n",
              "  'all',\n",
              "  'three',\n",
              "  'of',\n",
              "  'them',\n",
              "  'closely',\n",
              "  'and',\n",
              "  'consider',\n",
              "  'this',\n",
              "  'the',\n",
              "  'great',\n",
              "  'opportunity',\n",
              "  'of',\n",
              "  'my',\n",
              "  'life',\n",
              "  '.'],\n",
              " ['i', 'see', 'four', 'milestones', 'in', 'my', 'career']]"
            ]
          },
          "metadata": {},
          "execution_count": 28
        }
      ]
    },
    {
      "cell_type": "code",
      "metadata": {
        "colab": {
          "base_uri": "https://localhost:8080/"
        },
        "id": "UW0zdtDcIgh7",
        "outputId": "41917bcb-9e16-4a0d-857b-8b360f11c604"
      },
      "source": [
        "print(len(sentences))"
      ],
      "execution_count": 29,
      "outputs": [
        {
          "output_type": "stream",
          "name": "stdout",
          "text": [
            "31\n"
          ]
        }
      ]
    },
    {
      "cell_type": "code",
      "metadata": {
        "id": "z0Cy8LcwIglA"
      },
      "source": [
        "# removing stopwords\n",
        "for i in range(len(sentences)):\n",
        "    sentences[i] = [word for word in sentences[i] if word not in stopwords.words('english')]\n",
        "    "
      ],
      "execution_count": 30,
      "outputs": []
    },
    {
      "cell_type": "code",
      "metadata": {
        "id": "i9Zg4tnrIgn-"
      },
      "source": [
        "# Training the Word2Vec model\n",
        "model = Word2Vec(sentences, min_count=1) # min_count = 1 means if a word present atleast for onces we are going to keep\n",
        "\n",
        "\n",
        "# we can try different count value also\n",
        "# right now my data is too small so as I have taken it as one\n"
      ],
      "execution_count": 31,
      "outputs": []
    },
    {
      "cell_type": "code",
      "metadata": {
        "id": "de6r2YIEO9yQ"
      },
      "source": [
        "# finding out the vocabulary for this model\n",
        "words = model.wv.vocab"
      ],
      "execution_count": 32,
      "outputs": []
    },
    {
      "cell_type": "code",
      "metadata": {
        "colab": {
          "base_uri": "https://localhost:8080/"
        },
        "id": "bWC0OvZSRnvF",
        "outputId": "7921777d-9be6-44a6-aad4-32f2a7b6108d"
      },
      "source": [
        "words"
      ],
      "execution_count": 33,
      "outputs": [
        {
          "output_type": "execute_result",
          "data": {
            "text/plain": [
              "{',': <gensim.models.keyedvectors.Vocab at 0x7fb8ac10b850>,\n",
              " '.': <gensim.models.keyedvectors.Vocab at 0x7fb8ac10b950>,\n",
              " '?': <gensim.models.keyedvectors.Vocab at 0x7fb8ae1b3290>,\n",
              " 'achievements': <gensim.models.keyedvectors.Vocab at 0x7fb8ac112210>,\n",
              " 'alexander': <gensim.models.keyedvectors.Vocab at 0x7fb8ac10b890>,\n",
              " 'also': <gensim.models.keyedvectors.Vocab at 0x7fb8ac1127d0>,\n",
              " 'among': <gensim.models.keyedvectors.Vocab at 0x7fb8ac112fd0>,\n",
              " 'anyone': <gensim.models.keyedvectors.Vocab at 0x7fb8ae1b3350>,\n",
              " 'areas': <gensim.models.keyedvectors.Vocab at 0x7fb8ac112290>,\n",
              " 'believe': <gensim.models.keyedvectors.Vocab at 0x7fb8ac112a10>,\n",
              " 'brahm': <gensim.models.keyedvectors.Vocab at 0x7fb8ac110c90>,\n",
              " 'british': <gensim.models.keyedvectors.Vocab at 0x7fb8ae1b3b90>,\n",
              " 'build': <gensim.models.keyedvectors.Vocab at 0x7fb8ac112c90>,\n",
              " 'came': <gensim.models.keyedvectors.Vocab at 0x7fb8ae1b3250>,\n",
              " 'captured': <gensim.models.keyedvectors.Vocab at 0x7fb8ac10bcd0>,\n",
              " 'career': <gensim.models.keyedvectors.Vocab at 0x7fb8ac110510>,\n",
              " 'closely': <gensim.models.keyedvectors.Vocab at 0x7fb8ac110d50>,\n",
              " 'come': <gensim.models.keyedvectors.Vocab at 0x7fb8ac10b8d0>,\n",
              " 'conquered': <gensim.models.keyedvectors.Vocab at 0x7fb8ac10b5d0>,\n",
              " 'consider': <gensim.models.keyedvectors.Vocab at 0x7fb8ac110690>,\n",
              " 'culture': <gensim.models.keyedvectors.Vocab at 0x7fb8ae1b37d0>,\n",
              " 'dept': <gensim.models.keyedvectors.Vocab at 0x7fb8ae1cd110>,\n",
              " 'developed': <gensim.models.keyedvectors.Vocab at 0x7fb8ac112e50>,\n",
              " 'developing': <gensim.models.keyedvectors.Vocab at 0x7fb8ac112a50>,\n",
              " 'development': <gensim.models.keyedvectors.Vocab at 0x7fb8ac112e10>,\n",
              " 'dhawan': <gensim.models.keyedvectors.Vocab at 0x7fb8ac110c50>,\n",
              " 'done': <gensim.models.keyedvectors.Vocab at 0x7fb8ae1b3590>,\n",
              " 'dr.': <gensim.models.keyedvectors.Vocab at 0x7fb8ac1129d0>,\n",
              " 'dutch': <gensim.models.keyedvectors.Vocab at 0x7fb8ae1b3a50>,\n",
              " 'economic': <gensim.models.keyedvectors.Vocab at 0x7fb8ac112710>,\n",
              " 'enforce': <gensim.models.keyedvectors.Vocab at 0x7fb8ae1b3c90>,\n",
              " 'falling': <gensim.models.keyedvectors.Vocab at 0x7fb8ac112090>,\n",
              " 'father': <gensim.models.keyedvectors.Vocab at 0x7fb8ac110b10>,\n",
              " 'fifty': <gensim.models.keyedvectors.Vocab at 0x7fb8ac112e90>,\n",
              " 'first': <gensim.models.keyedvectors.Vocab at 0x7fb8ac112690>,\n",
              " 'fortune': <gensim.models.keyedvectors.Vocab at 0x7fb8ac112a90>,\n",
              " 'four': <gensim.models.keyedvectors.Vocab at 0x7fb8ac110d90>,\n",
              " 'free': <gensim.models.keyedvectors.Vocab at 0x7fb8ac112d10>,\n",
              " 'freedom': <gensim.models.keyedvectors.Vocab at 0x7fb8ae1b3310>,\n",
              " 'french': <gensim.models.keyedvectors.Vocab at 0x7fb8ae1b32d0>,\n",
              " 'gdp': <gensim.models.keyedvectors.Vocab at 0x7fb8ac1122d0>,\n",
              " 'globally': <gensim.models.keyedvectors.Vocab at 0x7fb8ac112110>,\n",
              " 'go': <gensim.models.keyedvectors.Vocab at 0x7fb8ac112990>,\n",
              " 'good': <gensim.models.keyedvectors.Vocab at 0x7fb8ac112950>,\n",
              " 'got': <gensim.models.keyedvectors.Vocab at 0x7fb8ac1126d0>,\n",
              " 'grabbed': <gensim.models.keyedvectors.Vocab at 0x7fb8ae1b3b50>,\n",
              " 'great': <gensim.models.keyedvectors.Vocab at 0x7fb8ac1128d0>,\n",
              " 'greeks': <gensim.models.keyedvectors.Vocab at 0x7fb8ac10b9d0>,\n",
              " 'growth': <gensim.models.keyedvectors.Vocab at 0x7fb8ac112250>,\n",
              " 'hand-in-hand': <gensim.models.keyedvectors.Vocab at 0x7fb8ac112490>,\n",
              " 'history': <gensim.models.keyedvectors.Vocab at 0x7fb8ac10b710>,\n",
              " 'incorrect': <gensim.models.keyedvectors.Vocab at 0x7fb8ac112550>,\n",
              " 'independence': <gensim.models.keyedvectors.Vocab at 0x7fb8ac112890>,\n",
              " 'india': <gensim.models.keyedvectors.Vocab at 0x7fb8ac10bd10>,\n",
              " 'invaded': <gensim.models.keyedvectors.Vocab at 0x7fb8ac10bc50>,\n",
              " 'lack': <gensim.models.keyedvectors.Vocab at 0x7fb8ac1123d0>,\n",
              " 'land': <gensim.models.keyedvectors.Vocab at 0x7fb8ae1b3c50>,\n",
              " 'lands': <gensim.models.keyedvectors.Vocab at 0x7fb8ac10bed0>,\n",
              " 'levels': <gensim.models.keyedvectors.Vocab at 0x7fb8ac112350>,\n",
              " 'life': <gensim.models.keyedvectors.Vocab at 0x7fb8ae1b3c10>,\n",
              " 'looted': <gensim.models.keyedvectors.Vocab at 0x7fb8ae1b3ad0>,\n",
              " 'lucky': <gensim.models.keyedvectors.Vocab at 0x7fb8ac110b50>,\n",
              " 'material': <gensim.models.keyedvectors.Vocab at 0x7fb8ac1105d0>,\n",
              " 'milestones': <gensim.models.keyedvectors.Vocab at 0x7fb8ac110bd0>,\n",
              " 'military': <gensim.models.keyedvectors.Vocab at 0x7fb8ac112310>,\n",
              " 'minds': <gensim.models.keyedvectors.Vocab at 0x7fb8ac10b4d0>,\n",
              " 'moguls': <gensim.models.keyedvectors.Vocab at 0x7fb8ac10b6d0>,\n",
              " 'must': <gensim.models.keyedvectors.Vocab at 0x7fb8ac112ad0>,\n",
              " 'nation': <gensim.models.keyedvectors.Vocab at 0x7fb8ae1b38d0>,\n",
              " 'nations': <gensim.models.keyedvectors.Vocab at 0x7fb8ac112050>,\n",
              " 'nuclear': <gensim.models.keyedvectors.Vocab at 0x7fb8ac110cd0>,\n",
              " 'nurture': <gensim.models.keyedvectors.Vocab at 0x7fb8ac112c10>,\n",
              " 'one': <gensim.models.keyedvectors.Vocab at 0x7fb8ac112c50>,\n",
              " 'onwards': <gensim.models.keyedvectors.Vocab at 0x7fb8ac10be10>,\n",
              " 'opportunity': <gensim.models.keyedvectors.Vocab at 0x7fb8ac110e50>,\n",
              " 'others.that': <gensim.models.keyedvectors.Vocab at 0x7fb8ac1120d0>,\n",
              " 'people': <gensim.models.keyedvectors.Vocab at 0x7fb8ac10bad0>,\n",
              " 'percent': <gensim.models.keyedvectors.Vocab at 0x7fb8ac112f50>,\n",
              " 'portuguese': <gensim.models.keyedvectors.Vocab at 0x7fb8ae1b30d0>,\n",
              " 'poverty': <gensim.models.keyedvectors.Vocab at 0x7fb8ac112f90>,\n",
              " 'power': <gensim.models.keyedvectors.Vocab at 0x7fb8ac112650>,\n",
              " 'prakash': <gensim.models.keyedvectors.Vocab at 0x7fb8ac1100d0>,\n",
              " 'professor': <gensim.models.keyedvectors.Vocab at 0x7fb8ac110f50>,\n",
              " 'protect': <gensim.models.keyedvectors.Vocab at 0x7fb8ac112b90>,\n",
              " 'rate': <gensim.models.keyedvectors.Vocab at 0x7fb8ac112bd0>,\n",
              " 'recognised': <gensim.models.keyedvectors.Vocab at 0x7fb8ac112510>,\n",
              " 'respect': <gensim.models.keyedvectors.Vocab at 0x7fb8ae1b3710>,\n",
              " 'respects': <gensim.models.keyedvectors.Vocab at 0x7fb8ac1125d0>,\n",
              " 'sarabhai': <gensim.models.keyedvectors.Vocab at 0x7fb8ae1cda90>,\n",
              " 'satish': <gensim.models.keyedvectors.Vocab at 0x7fb8ac1103d0>,\n",
              " 'second': <gensim.models.keyedvectors.Vocab at 0x7fb8ac112d90>,\n",
              " 'see': <gensim.models.keyedvectors.Vocab at 0x7fb8ac112cd0>,\n",
              " 'self-assured': <gensim.models.keyedvectors.Vocab at 0x7fb8ac112390>,\n",
              " 'self-confidence': <gensim.models.keyedvectors.Vocab at 0x7fb8ac112150>,\n",
              " 'self-reliant': <gensim.models.keyedvectors.Vocab at 0x7fb8ac112590>,\n",
              " 'space': <gensim.models.keyedvectors.Vocab at 0x7fb8ac110310>,\n",
              " 'stand': <gensim.models.keyedvectors.Vocab at 0x7fb8ac112450>,\n",
              " 'stands': <gensim.models.keyedvectors.Vocab at 0x7fb8ac1124d0>,\n",
              " 'started': <gensim.models.keyedvectors.Vocab at 0x7fb8ac112b10>,\n",
              " 'strength': <gensim.models.keyedvectors.Vocab at 0x7fb8ac112810>,\n",
              " 'strong': <gensim.models.keyedvectors.Vocab at 0x7fb8ac1121d0>,\n",
              " 'succeeded': <gensim.models.keyedvectors.Vocab at 0x7fb8ac110dd0>,\n",
              " 'terms': <gensim.models.keyedvectors.Vocab at 0x7fb8ac112f10>,\n",
              " 'third': <gensim.models.keyedvectors.Vocab at 0x7fb8ac112410>,\n",
              " 'three': <gensim.models.keyedvectors.Vocab at 0x7fb8ac10bd50>,\n",
              " 'time': <gensim.models.keyedvectors.Vocab at 0x7fb8ac112ed0>,\n",
              " 'today': <gensim.models.keyedvectors.Vocab at 0x7fb8ac112190>,\n",
              " 'took': <gensim.models.keyedvectors.Vocab at 0x7fb8ae1b3e90>,\n",
              " 'top': <gensim.models.keyedvectors.Vocab at 0x7fb8ac112b50>,\n",
              " 'tried': <gensim.models.keyedvectors.Vocab at 0x7fb8ae1b3550>,\n",
              " 'turks': <gensim.models.keyedvectors.Vocab at 0x7fb8ac10be90>,\n",
              " 'unless': <gensim.models.keyedvectors.Vocab at 0x7fb8ac112610>,\n",
              " 'us': <gensim.models.keyedvectors.Vocab at 0x7fb8ac10bc10>,\n",
              " 'vikram': <gensim.models.keyedvectors.Vocab at 0x7fb8ae1906d0>,\n",
              " 'vision': <gensim.models.keyedvectors.Vocab at 0x7fb8ac112910>,\n",
              " 'visions': <gensim.models.keyedvectors.Vocab at 0x7fb8ac10b510>,\n",
              " 'war': <gensim.models.keyedvectors.Vocab at 0x7fb8ac112790>,\n",
              " 'way': <gensim.models.keyedvectors.Vocab at 0x7fb8ae1b3110>,\n",
              " 'worked': <gensim.models.keyedvectors.Vocab at 0x7fb8ac112850>,\n",
              " 'world': <gensim.models.keyedvectors.Vocab at 0x7fb8ac10b610>,\n",
              " 'years': <gensim.models.keyedvectors.Vocab at 0x7fb8ac10b750>,\n",
              " 'yet': <gensim.models.keyedvectors.Vocab at 0x7fb8ae1b3210>,\n",
              " '’': <gensim.models.keyedvectors.Vocab at 0x7fb8ac112dd0>}"
            ]
          },
          "metadata": {},
          "execution_count": 33
        }
      ]
    },
    {
      "cell_type": "markdown",
      "metadata": {
        "id": "_4G3bmqESlvn"
      },
      "source": [
        "# Finding Word Vectors"
      ]
    },
    {
      "cell_type": "code",
      "metadata": {
        "id": "SKhoHZVXRo9E"
      },
      "source": [
        "\n",
        "vector = model.wv['war']"
      ],
      "execution_count": 34,
      "outputs": []
    },
    {
      "cell_type": "markdown",
      "metadata": {
        "id": "uEvr8d8GSpyE"
      },
      "source": [
        "# Most similar words"
      ]
    },
    {
      "cell_type": "code",
      "metadata": {
        "id": "ffG5cob2SZYW"
      },
      "source": [
        "\n",
        "similar = model.wv.most_similar('freedom')"
      ],
      "execution_count": 37,
      "outputs": []
    },
    {
      "cell_type": "code",
      "metadata": {
        "colab": {
          "base_uri": "https://localhost:8080/"
        },
        "id": "ZW96TPAKSg20",
        "outputId": "55d8b27b-ff25-4941-8313-a38e821b44fe"
      },
      "source": [
        "similar\n",
        "\n",
        "# these are the similar word we are getting based on the word freedom"
      ],
      "execution_count": 38,
      "outputs": [
        {
          "output_type": "execute_result",
          "data": {
            "text/plain": [
              "[('sarabhai', 0.19470691680908203),\n",
              " ('nation', 0.19148683547973633),\n",
              " ('four', 0.18839526176452637),\n",
              " ('recognised', 0.1827283501625061),\n",
              " ('independence', 0.16553106904029846),\n",
              " ('falling', 0.14505189657211304),\n",
              " ('us', 0.14424705505371094),\n",
              " ('years', 0.14289434254169464),\n",
              " ('areas', 0.14250436425209045),\n",
              " ('worked', 0.14181746542453766)]"
            ]
          },
          "metadata": {},
          "execution_count": 38
        }
      ]
    },
    {
      "cell_type": "markdown",
      "metadata": {
        "id": "BMS9z3GqWi2X"
      },
      "source": [
        "# Bias"
      ]
    },
    {
      "cell_type": "markdown",
      "metadata": {
        "id": "9OPz4Ho0XUMe"
      },
      "source": [
        "#Embedding space\n",
        "Pre-trained model embedding space"
      ]
    },
    {
      "cell_type": "code",
      "metadata": {
        "colab": {
          "base_uri": "https://localhost:8080/"
        },
        "id": "oNAR3K_xXYrU",
        "outputId": "ef218891-37f4-49bb-cc8f-4aa49e8e4b17"
      },
      "source": [
        "import gensim.downloader as api\n",
        "\n",
        "model = api.load('word2vec-google-news-300')"
      ],
      "execution_count": 41,
      "outputs": [
        {
          "output_type": "stream",
          "name": "stdout",
          "text": [
            "[==================================================] 100.0% 1662.8/1662.8MB downloaded\n"
          ]
        }
      ]
    },
    {
      "cell_type": "code",
      "metadata": {
        "colab": {
          "base_uri": "https://localhost:8080/"
        },
        "id": "OHxMxhjnSi76",
        "outputId": "a42fa158-cc71-4bf7-96ae-8b47d74f0109"
      },
      "source": [
        "# finding similar word\n",
        "model.most_similar(\"door\")"
      ],
      "execution_count": 43,
      "outputs": [
        {
          "output_type": "execute_result",
          "data": {
            "text/plain": [
              "[('doors', 0.7645470499992371),\n",
              " ('window', 0.6212796568870544),\n",
              " ('doorway', 0.5805533528327942),\n",
              " (\"driver's_side_door\", 0.5343487858772278),\n",
              " ('thief_pried', 0.5309741497039795),\n",
              " ('jimmying', 0.5297627449035645),\n",
              " ('Someone_pried', 0.5201740860939026),\n",
              " ('door_ajar', 0.5199204087257385),\n",
              " ('slightly_ajar', 0.513297438621521),\n",
              " ('ajar', 0.5059350728988647)]"
            ]
          },
          "metadata": {},
          "execution_count": 43
        }
      ]
    },
    {
      "cell_type": "markdown",
      "metadata": {
        "id": "QyhI0mENbmBI"
      },
      "source": [
        "#Syntactic\n",
        "$v_{kings} - v_{king} + v_{queen} \\approx v_{queens}$"
      ]
    },
    {
      "cell_type": "code",
      "metadata": {
        "colab": {
          "base_uri": "https://localhost:8080/"
        },
        "id": "UNCZDbxFXd-y",
        "outputId": "733605b3-2eaf-4082-8fab-227ee4f8e6d6"
      },
      "source": [
        "model.most_similar(positive=['kings', 'queen'], negative=['king'], topn=1)"
      ],
      "execution_count": 44,
      "outputs": [
        {
          "output_type": "execute_result",
          "data": {
            "text/plain": [
              "[('queens', 0.7586220502853394)]"
            ]
          },
          "metadata": {},
          "execution_count": 44
        }
      ]
    },
    {
      "cell_type": "markdown",
      "metadata": {
        "id": "_YE0nYT9byLd"
      },
      "source": [
        "# Semantic\n",
        "$v_{king} - v_{man} + v_{woman} \\approx v_{queen}$"
      ]
    },
    {
      "cell_type": "code",
      "metadata": {
        "colab": {
          "base_uri": "https://localhost:8080/"
        },
        "id": "GfBH1YfbWooJ",
        "outputId": "8153ff77-95fd-4880-f149-76abffba8509"
      },
      "source": [
        "model.most_similar(positive=['woman', 'king'], negative=['man'], topn=1)   # topn is used to find the top n similar words"
      ],
      "execution_count": 45,
      "outputs": [
        {
          "output_type": "execute_result",
          "data": {
            "text/plain": [
              "[('queen', 0.7118192911148071)]"
            ]
          },
          "metadata": {},
          "execution_count": 45
        }
      ]
    },
    {
      "cell_type": "code",
      "metadata": {
        "colab": {
          "base_uri": "https://localhost:8080/"
        },
        "id": "67plbmOEb_3q",
        "outputId": "a36dff21-0740-48ef-c3c0-bdc5eae48e9e"
      },
      "source": [
        "model.most_similar(positive=['USA', 'vodka'], negative=['Russia'], topn=1)"
      ],
      "execution_count": 46,
      "outputs": [
        {
          "output_type": "execute_result",
          "data": {
            "text/plain": [
              "[('liqueur', 0.4968181252479553)]"
            ]
          },
          "metadata": {},
          "execution_count": 46
        }
      ]
    },
    {
      "cell_type": "markdown",
      "metadata": {
        "id": "dQ6TzxWdcl5A"
      },
      "source": [
        "# Bias"
      ]
    },
    {
      "cell_type": "code",
      "metadata": {
        "colab": {
          "base_uri": "https://localhost:8080/"
        },
        "id": "79mMLjVtcE6_",
        "outputId": "1dc0aa1c-0132-49b7-bbaf-e07507a2b32f"
      },
      "source": [
        "model.most_similar(positive=['woman', 'director'], negative=['man'])"
      ],
      "execution_count": 47,
      "outputs": [
        {
          "output_type": "execute_result",
          "data": {
            "text/plain": [
              "[('chairwoman', 0.655749499797821),\n",
              " ('coordinator', 0.6399918794631958),\n",
              " ('vice_president', 0.6261624693870544),\n",
              " ('Executive_Director', 0.6241751313209534),\n",
              " ('Director', 0.6134443283081055),\n",
              " ('executive', 0.5967081785202026),\n",
              " ('Associate_Director', 0.5864449739456177),\n",
              " ('chairperson', 0.571090817451477),\n",
              " ('vp', 0.56575608253479),\n",
              " ('directorof', 0.5594008564949036)]"
            ]
          },
          "metadata": {},
          "execution_count": 47
        }
      ]
    },
    {
      "cell_type": "code",
      "metadata": {
        "colab": {
          "base_uri": "https://localhost:8080/"
        },
        "id": "H4nJZKxXdrhm",
        "outputId": "dd8925c4-401e-4eea-945d-26f56ce775e6"
      },
      "source": [
        "model.similarity(\"president\", \"man\") # we can find out the percentage of similarity"
      ],
      "execution_count": 49,
      "outputs": [
        {
          "output_type": "execute_result",
          "data": {
            "text/plain": [
              "0.028424604"
            ]
          },
          "metadata": {},
          "execution_count": 49
        }
      ]
    },
    {
      "cell_type": "code",
      "metadata": {
        "colab": {
          "base_uri": "https://localhost:8080/"
        },
        "id": "NlYoimTHd3Qw",
        "outputId": "e36641d4-a2c8-4a55-a8b7-df870da5f7ff"
      },
      "source": [
        "model.similarity(\"president\", \"woman\")"
      ],
      "execution_count": 50,
      "outputs": [
        {
          "output_type": "execute_result",
          "data": {
            "text/plain": [
              "0.062676705"
            ]
          },
          "metadata": {},
          "execution_count": 50
        }
      ]
    },
    {
      "cell_type": "code",
      "metadata": {
        "id": "b2vM3F_yd8pm"
      },
      "source": [
        ""
      ],
      "execution_count": null,
      "outputs": []
    }
  ]
}